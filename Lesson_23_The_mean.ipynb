{
  "nbformat": 4,
  "nbformat_minor": 0,
  "metadata": {
    "colab": {
      "name": "Lesson 23 - The mean.ipynb",
      "version": "0.3.2",
      "provenance": [],
      "collapsed_sections": [],
      "include_colab_link": true
    },
    "kernelspec": {
      "name": "python3",
      "display_name": "Python 3"
    }
  },
  "cells": [
    {
      "cell_type": "markdown",
      "metadata": {
        "id": "view-in-github",
        "colab_type": "text"
      },
      "source": [
        "<a href=\"https://colab.research.google.com/github/ggorg03/notebooks-probabilidade-unid-3/blob/master/Lesson_23_The_mean.ipynb\" target=\"_parent\"><img src=\"https://colab.research.google.com/assets/colab-badge.svg\" alt=\"Open In Colab\"/></a>"
      ]
    },
    {
      "metadata": {
        "id": "lTUN3luW5ymp",
        "colab_type": "code",
        "outputId": "540163ca-d93e-4600-8629-c1fc7b3ebada",
        "colab": {
          "resources": {
            "http://localhost:8080/nbextensions/google.colab/files.js": {
              "data": "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",
              "ok": true,
              "headers": [
                [
                  "content-type",
                  "application/javascript"
                ]
              ],
              "status": 200,
              "status_text": "OK"
            }
          },
          "base_uri": "https://localhost:8080/",
          "height": 97
        }
      },
      "cell_type": "code",
      "source": [
        "# Uploading files from your local file system\n",
        "\n",
        "from google.colab import files\n",
        "uploaded = files.upload()\n",
        "for fn in uploaded.keys():\n",
        "  print('User uploaded file \"{name}\" with length {length} bytes'.format(\n",
        "      name=fn, length=len(uploaded[fn])))"
      ],
      "execution_count": 0,
      "outputs": [
        {
          "output_type": "display_data",
          "data": {
            "text/html": [
              "\n",
              "     <input type=\"file\" id=\"files-90705220-e8ae-4254-8740-783119e3eac5\" name=\"files[]\" multiple disabled />\n",
              "     <output id=\"result-90705220-e8ae-4254-8740-783119e3eac5\">\n",
              "      Upload widget is only available when the cell has been executed in the\n",
              "      current browser session. Please rerun this cell to enable.\n",
              "      </output>\n",
              "      <script src=\"/nbextensions/google.colab/files.js\"></script> "
            ],
            "text/plain": [
              "<IPython.core.display.HTML object>"
            ]
          },
          "metadata": {
            "tags": []
          }
        },
        {
          "output_type": "stream",
          "text": [
            "Saving AmesHousing_1.txt to AmesHousing_1.txt\n",
            "User uploaded file \"AmesHousing_1.txt\" with length 993022 bytes\n"
          ],
          "name": "stdout"
        }
      ]
    },
    {
      "metadata": {
        "id": "ygwcd0MYjxtQ",
        "colab_type": "text"
      },
      "cell_type": "markdown",
      "source": [
        "# 1.0 - Introduction "
      ]
    },
    {
      "metadata": {
        "id": "gXqI82O0ksP5",
        "colab_type": "text"
      },
      "cell_type": "markdown",
      "source": [
        "In the last lesson, we completed the workflow illustrated below. We learned to use frequency distribution tables to bring the data to a comprehensible form to find patterns.\n",
        "\n",
        "<img width=\"600\" src=\"https://drive.google.com/uc?export=view&id=1IC74sq9FboHFb6-x_zkFybqKutnaxEy8\">\n",
        "\n",
        "Frequency tables, however, are not the only way of bringing data to a comprehensible form.\n",
        "\n",
        "<img width=\"600\" src=\"https://drive.google.com/uc?export=view&id=1y9K5lxIwwgXvn-Vuc35SLkxhftIDHO2k\">\n",
        "\n",
        "\n",
        "Throughout this next lessons we'll learn to summarize the distribution of a variable with a single value. Depending on the particular characteristics of a distribution, we'll see that we can summarize it using the **mean**, the **weighted mean**, the **median**, or the **mode**.\n",
        "\n",
        "We'll also learn to measure the variability in a distribution. If we have a distribution A with the values [3, 3, 3, 3], and a distribution B with [30, 1, 15, 43], we can clearly see that there's much more variability (diversity) in B. We'll learn to quantify variability using measures like **variance** and **standard deviation**.\n",
        "\n",
        "Once we understand the measures of variability, we can then learn how to locate a value in a distribution, and determine how it compares to other values. For instance, when we analyze salaries, we might want to find out whether a salary of $75000 is common or extreme inside a company. We'll learn to answer this question with precision using a **z-score**.\n",
        "\n",
        "In this first mission, we'll have a detailed discussion about the **mean**. We already learned briefly about the mean in the previous lessons, but here we discuss the concept again to give the explanations much more depth."
      ]
    },
    {
      "metadata": {
        "id": "J8fsIxKglWXt",
        "colab_type": "text"
      },
      "cell_type": "markdown",
      "source": [
        "# 2.0 - The mean"
      ]
    },
    {
      "metadata": {
        "id": "NogJ1F3LmnQ7",
        "colab_type": "text"
      },
      "cell_type": "markdown",
      "source": [
        "Let's say we want to summarize the distribution below with a single value that is representative of the distribution as a whole.\n",
        "\n",
        "$$\n",
        "[0,1,4,7,8,10]\n",
        "$$\n",
        "\n",
        "Intuitively, we need to take into account equally every single value in the distribution if we want to find a good summary value that's representative of the entire distribution. We could try to sum all the values in the distribution, and then divide the total by the number of values we added — this way we'll manage to take into account equally every value in the distribution:\n",
        "\n",
        "$$\n",
        "\\frac{0+1+4+7+8+10}{6} = \\frac{30}{6} = 5\n",
        "$$\n",
        "\n",
        "When we compute the summary value of a distribution in this way, we call the value the **arithmetic mean**, or the **mean.** For our distribution above, the mean is 5.\n",
        "\n",
        "We have good reasons to consider 5 a representative value for the distribution above. First, notice that 5 is right at the center of the distribution's range, which is 0 - 10 (0 is the minimum value in the distribution, and 10 is the maximum value):\n",
        "\n",
        "<img width=\"400\" src=\"https://drive.google.com/uc?export=view&id=1p82X1D8VvrajTFJcWHi3RXutOdwEfuxl\">\n",
        "\n",
        "Also, each value is fairly close to the mean. The nearest value to the mean is 4, which is just 1 unit away from the mean, while the farthest values are 0 and 10, located 5 units away from the mean.\n",
        "\n",
        "<img width=\"400\" src=\"https://drive.google.com/uc?export=view&id=1vIxSItydskQFlo_kZnZDerQAm61raKmd\">\n",
        "\n",
        "\n",
        "Although the distance for each individual value varies, the sum of the distances of the values that are below the mean is equal to the sum of the distances of the values that are above the mean:\n",
        "\n",
        "<img width=\"400\" src=\"https://drive.google.com/uc?export=view&id=15Xfnw8QCLtlyuPzJVZInUopV0AGvzsY2\">\n",
        "\n",
        "\n",
        "**Exercise**\n",
        "\n",
        "<img width=\"100\" src=\"https://drive.google.com/uc?export=view&id=1E8tR7B9YYUXsU_rddJAyq0FrM0MSelxZ\">\n",
        "\n",
        "\n",
        "- We assigned a few values to the **distribution** variable in the cell below.\n",
        "  - Compute the **mean** of this distribution and assign the result to a variable named **mean**.\n",
        "  - Find out whether the value of the **mean** is at the center of the distribution's range (0 - 13). If it is, assign **True** to a variable named **center**, otherwise assign **False**.\n",
        "  - Check whether the sum of the distances of the values that are below the mean is equal to the sum of the distances of the values that are above the mean.\n",
        "    - Measure the distance of each value from the mean. You can ignore potential values that are equal to the mean because the distances will be 0 for these cases.\n",
        "    - Sum up the distances of the values that are above the mean, and then sum up separately the distances of the values that are below the mean.\n",
        "    - Compare the results of the two sums — if they are equal, assign **True** to a variable named **equal_distances**, otherwise assign **False**."
      ]
    },
    {
      "metadata": {
        "id": "C6MV6FUhm8hO",
        "colab_type": "code",
        "outputId": "4fe2b2b5-e19b-4224-d84a-4ab6f5d79b5f",
        "colab": {
          "base_uri": "https://localhost:8080/",
          "height": 35
        }
      },
      "cell_type": "code",
      "source": [
        "distribution = [0,2,3,3,3,4,13]\n",
        "\n",
        "# put your code here\n",
        "mean = sum(distribution) / len(distribution)\n",
        "center = mean in distribution\n",
        "\n",
        "left_mean = [x for x in distribution if x <= mean]\n",
        "rigth_mean = [x for x in distribution if x > mean]\n",
        "\n",
        "left_dist = abs(sum(left_mean) - len(left_mean) * mean)\n",
        "rigth_dist = abs(sum(rigth_mean) - len(rigth_mean) * mean)\n",
        "\n",
        "equal_distances = left_dist == rigth_dist\n",
        "equal_distances"
      ],
      "execution_count": 0,
      "outputs": [
        {
          "output_type": "execute_result",
          "data": {
            "text/plain": [
              "True"
            ]
          },
          "metadata": {
            "tags": []
          },
          "execution_count": 12
        }
      ]
    },
    {
      "metadata": {
        "id": "EYGxkADar7bb",
        "colab_type": "text"
      },
      "cell_type": "markdown",
      "source": [
        "# 3.0 - The Mean as a Balance Point"
      ]
    },
    {
      "metadata": {
        "id": "ccSEKzr8siVL",
        "colab_type": "text"
      },
      "cell_type": "markdown",
      "source": [
        "In the last exercise, we observed from the distribution [0,2,3,3,3,4,13] that the mean 4 is not in the center of the 0 - 13 range interval:\n",
        "\n",
        "<img width=\"600\" src=\"https://drive.google.com/uc?export=view&id=1319c_4rheyZTKae7-QkA0xJ0hSmybg41\">\n",
        "\n",
        "As a consequence, we should avoid thinking of the mean as being the center of a distribution's range. In some cases, the mean will be equivalent to the center of the distribution's range, but we've just seen that this doesn't hold true for all distributions.\n",
        "\n",
        "We should think of the mean as being the value located at that particular point in the distribution where the total distance of the values below the mean is the same as the total distance of the values that are above the mean. In our last exercise, we saw that this holds true for the distribution [0,2,3,3,3,4,13].\n",
        "\n",
        "<img width=\"500\" src=\"https://drive.google.com/uc?export=view&id=1K8bLxuug28x7J33dDCGmR_N2TEhchUqj\">\n",
        "\n",
        "In fact, this is true for the distribution of any variable measured on an interval or ratio scale.\n",
        "\n",
        "To give students a better intuition for this property of the mean, it's common in the literature to describe the mean as the balance point of a lever.\n",
        "\n",
        "<img width=\"400\" src=\"https://drive.google.com/uc?export=view&id=1E9FmRHl6wYULyBCqXJcmpiuhfvs_7Hre\">\n",
        "\n",
        "If the total distances above and below the mean were equivalent to the forces exerted by the weights on the rod of the lever, then there would be the same amount of force exerted on each side of the mean. This will make the rod stay in perfect equilibrium:\n",
        "\n",
        "\n",
        "<img width=\"400\" src=\"https://drive.google.com/uc?export=view&id=1iziEdt0WVaRzz8YZ39Iaj8qTNoidrrXO\">\n",
        "\n",
        "Now that we've seen that the total distances below the mean equal the total distances above the mean, we'll do a sanity check of this rule by measuring the distances for 5000 different distributions in the exercise below."
      ]
    },
    {
      "metadata": {
        "id": "Cq7Sthaesnfz",
        "colab_type": "code",
        "outputId": "d6ddd52c-5c08-482c-b32f-f5a26c4d6773",
        "colab": {
          "base_uri": "https://localhost:8080/",
          "height": 35
        }
      },
      "cell_type": "code",
      "source": [
        "from numpy.random import randint, seed\n",
        "equal_distances = 0\n",
        "\n",
        "for i in range(5000):\n",
        "    seed(i)\n",
        "    # generate ten random numbers between 0 and 1000\n",
        "    distribution = randint(0,1000,10)\n",
        "    mean = sum(distribution) / len(distribution)\n",
        "    \n",
        "    above = []\n",
        "    below = []\n",
        "    for value in distribution:\n",
        "        if value == mean:\n",
        "            continue # continue with the next iteration because the distance is 0\n",
        "        if value < mean:\n",
        "            below.append(mean - value)\n",
        "        if value > mean:\n",
        "            above.append(value - mean)\n",
        "    \n",
        "    sum_above = round(sum(above),1)\n",
        "    sum_below = round(sum(below),1)\n",
        "    if (sum_above == sum_below):\n",
        "        equal_distances += 1\n",
        "        \n",
        "print(equal_distances)"
      ],
      "execution_count": 0,
      "outputs": [
        {
          "output_type": "stream",
          "text": [
            "5000\n"
          ],
          "name": "stdout"
        }
      ]
    },
    {
      "metadata": {
        "id": "XV0hJl65F7qw",
        "colab_type": "text"
      },
      "cell_type": "markdown",
      "source": [
        "# 4- Defining the Mean Algebraically"
      ]
    },
    {
      "metadata": {
        "id": "ispL8rlQI7kA",
        "colab_type": "text"
      },
      "cell_type": "markdown",
      "source": [
        "A very useful property of the **mean** is that it can be defined algebraically in a simple way. This is how we can define the **mean** for any population of N values ( N is the number of values in the population):\n",
        "\n",
        "$$\n",
        "\\text{population mean} = \\frac{x_1 + x_2 + \\ldots + x_N}{N}\n",
        "$$\n",
        "\n",
        "By convention, the **mean** of a population is denoted with the Greek letter $\\mu$ (pronounced \"mew\"). So we rewrite the formula above:\n",
        "\n",
        "$$\n",
        "\\mu = \\frac{x_1 + x_2 + \\ldots + x_N}{N}\n",
        "$$\n",
        "\n",
        "Let's say the distribution $[0,2,3,3,3,4,13]$ represents a population. The distribution has 7 values, so $N=7$ . Let's plug the values into the formula above:\n",
        "\n",
        "\n",
        "<img width=\"300\" src=\"https://drive.google.com/uc?export=view&id=1OZNTBFIWLDZ_RTwrPjoPgyK4zcAfh1HJ\">\n",
        "\n",
        "\n",
        "Above, we computed the **mean** for a population. When we compute the mean for a sample, we need to use a slightly different notation to indicate that we're computing the mean for a sample and not for a population. Instead of $\\mu$, we denote the **sample mean** using $\\overline{x}$  (pronounced \"x-bar\"), and we use $n$ instead of $N$ to denote the number of values in the sample. This is how we could define the sample mean algebraically:\n",
        "\n",
        "\n",
        "$$\n",
        "\\overline{x} = \\frac{x_1 + x_2 + \\ldots + x_n}{n}\n",
        "$$\n",
        "\n",
        "\n",
        "Let's say we **sample three values** from the distribution used above and end up with the sample $[2,3,4]$. Let's plug the values into the sample **mean** formula:\n",
        "\n",
        "<img width=\"200\" src=\"https://drive.google.com/uc?export=view&id=1VF1C7ccfyTvDLIix0cnszo5w2zJWGVlJ\">\n",
        "\n",
        "\n",
        "Alternative notation exists for the **sample mean**. Besides $\\overline{x}$ , the **sample mean** is denoted in other statistics resources with $M$, $\\overline{X}$  (uppercase X-bar), or $\\overline{x_n}$. Throughout our course, we use the symbol $\\overline{x}$ to refer to the **sample mean.**\n",
        "\n",
        "\n",
        "<img width=\"200\" src=\"https://drive.google.com/uc?export=view&id=1y-yv0rjjCpc_Rv-zyOkrVRMwPBr22csB\">\n",
        "\n",
        "\n",
        "**Exercise**\n",
        "\n",
        "<img width=\"100\" src=\"https://drive.google.com/uc?export=view&id=1E8tR7B9YYUXsU_rddJAyq0FrM0MSelxZ\">\n",
        "\n",
        "\n",
        "- Indicate whether the following sentences are **true** or **false**.\n",
        "  - We use the symbol $\\mu$  to denote both the **population** and the **sample mean**. Assign **True** or **False** to a variable named **one**.\n",
        "  - If a population has 8 values, then $n=8$ . Assign **True** or **False** to a variable named **two**.\n",
        " - $\\overline{x}$ is a symbol used as an alternative to $M$, $\\overline{X}$  or $\\overline{x_n}$  to denote the **population mean**. Assign **True** or **False** to a variable named **three**."
      ]
    },
    {
      "metadata": {
        "id": "ZDI-G4bNJuFn",
        "colab_type": "code",
        "colab": {}
      },
      "cell_type": "code",
      "source": [
        "# put your answer here\n",
        "one = False\n",
        "two = False\n",
        "three = False"
      ],
      "execution_count": 0,
      "outputs": []
    },
    {
      "metadata": {
        "id": "RlbMWyK_O9OM",
        "colab_type": "text"
      },
      "cell_type": "markdown",
      "source": [
        "# 5 - An Alternative Definition"
      ]
    },
    {
      "metadata": {
        "id": "pj07lQQSO-lC",
        "colab_type": "text"
      },
      "cell_type": "markdown",
      "source": [
        "Previously we defined the population mean as:\n",
        "\n",
        "$$\n",
        "\\mu = \\frac{x_1 + x_2 + \\ldots + x_N}{N}\n",
        "$$\n",
        "\n",
        "The $x_1 + x_2 + \\ldots + x_N$ part is often rewritten as $\\displaystyle \\sum_{i=1}^N x_i$:\n",
        "\n",
        "\n",
        "$$\n",
        "\\mu = \\frac{x_1 + x_2 + \\ldots + x_N}{N} = \\frac{\\displaystyle \\sum_{i=1}^N x_i}{N}\n",
        "$$\n",
        "\n",
        "The $\\displaystyle \\sum$ symbol is a Greek letter, and it's pronounced \"sigma\" or \"capital sigma\". In mathematics, $\\displaystyle \\sum$ indicates the addition of a series of numbers. Let's say we have this distribution $D$:\n",
        "\n",
        "$$\n",
        "D = [2,4,6]\n",
        "$$\n",
        "\n",
        "The sum of the distribution $D$ is $2+4+6=12$. In mathematics, we usually don't use words from the natural language, so the **\"the sum of the distribution D\"** part becomes $\\displaystyle \\sum D$\n",
        "\n",
        "$$\n",
        "\\displaystyle \\sum D = 2+4+6 = 12\n",
        "$$\n",
        "\n",
        "Now let's say we have the following distribution $X$  which is a population and is composed of three unknown values:\n",
        "\n",
        "$$\n",
        "X = [x_1,x_2,x_3]\n",
        "$$\n",
        "\n",
        "The sum of the values is $\\displaystyle \\sum X = x_1 + x_2 + x_3$. When dealing with unknown values it is customary (but not necessary) to rewrite $\\displaystyle \\sum X$ as $\\displaystyle \\sum_{i=1}^N x_i$:\n",
        "\n",
        "$$\n",
        "\\displaystyle \\sum X = \\displaystyle \\sum_{i=1}^N x_i = x_1 + x_2 + x_3\n",
        "$$\n",
        "\n",
        "You should think of $\\displaystyle \\sum_{i=1}^N x_i$ in terms of a for loop, where the iteration variable is $i$. This means that $i$  will take a different value for each iteration. $i = 1$ defines the starting value of the loop, which is $i$ . For every new iteration, the previous value of $i$  is incremented by 1. The iteration stops when $i=N$ . For our distribution $X$  above, $N=3$, so we'll have three iterations of the loop:\n",
        "\n",
        "- For the first iteration, $i=1$. The $i$ in $x_i$ will become $1$, so we'll have $x_1$ .\n",
        "- For the second iteration, $i=2$. The $i$ in $x_i$ will become $2$, so we'll have  $x_2$.\n",
        "For the third iteration, $i=3$. The $i$  in  $x_i$ will become $3$, so we'll have $x_3$. At this point the iterations stops because $i=N$.\n",
        "\n",
        "This is one way we could code in Python a similar logic:\n",
        "\n",
        "<img width=\"600\" src=\"https://drive.google.com/uc?export=view&id=1l9sUvD1ynyzj9Mi0piiAaNmFPNXyBiRh\">\n",
        "\n",
        "While this is merely notation, it's important to understand it because we'll use it repeatedly as we move forward, and it'll also help you understand other statistics resources. To sum up, these are the ways we can define the population mean algebraically:\n",
        "\n",
        "$$\n",
        "\\mu = \\frac{x_1 + x_2 + \\ldots + x_N}{N} = \\frac{\\displaystyle \\sum X}{N}=\\frac{\\displaystyle \\sum_{i=1}^N x_i}{N}\n",
        "$$\n",
        "\n",
        "For the sample mean, there's just a slight change in notation. $\\mu$  becomes $\\overline{x}$, and $N$ becomes $n$:\n",
        "\n",
        "\n",
        "$$\n",
        "\\overline{x} = \\frac{x_1 + x_2 + \\ldots + x_n}{n} = \\frac{\\displaystyle \\sum X}{n}=\\frac{\\displaystyle \\sum_{i=1}^n x_i}{n}\n",
        "$$\n",
        "\n",
        "Algebra is very flexibile, and you'll also see in other statistics resources $\\frac{\\displaystyle \\sum_{i=1}^n x_i}{n}$ changed to $\\displaystyle \\frac{1}{n}(\\displaystyle \\sum_{i=1}^n x_i)$ - these two mathematical expressions are equivalent.\n",
        "\n",
        "**Exercise**\n",
        "\n",
        "<img width=\"100\" src=\"https://drive.google.com/uc?export=view&id=1E8tR7B9YYUXsU_rddJAyq0FrM0MSelxZ\">\n",
        "\n",
        "\n",
        "- Write a function that behaves just like $\\frac{\\displaystyle \\sum_{i=1}^N x_i}{N}$\n",
        "  - The function takes in an array of numbers and returns its **mean** value.\n",
        "  - Inside the function, write a **for loop** to iterate over the values in the array and sum them up. We can use **sum()** to compute the sum of an array without using a for loop, but for learning purposes we advise you to use a for loop just to understand better how $\\frac{\\displaystyle \\sum_{i=1}^N x_i}{N}$  works.\n",
        "- Use the function you wrote to compute the mean of the three distributions we already defined in the code editor:\n",
        "  - For the distribution in **distribution_1** assing the mean to a variable named **mean_1**.\n",
        "  - For the distribution in **distribution_2** assign the mean to a variable named **mean_2.**\n",
        "  - For the distribution in **distribution_3** assign the mean to a variable named **mean_3.**"
      ]
    },
    {
      "metadata": {
        "id": "tr53U2NbUP8Q",
        "colab_type": "code",
        "colab": {}
      },
      "cell_type": "code",
      "source": [
        "distribution_1 = [42, 24, 32, 11]\n",
        "distribution_2 = [102, 32, 74, 15, 38, 45, 22]\n",
        "distribution_3 = [3, 12, 7, 2, 15, 1, 21]\n",
        "\n",
        "# put your code here\n",
        "def mean(lista):\n",
        "  mi = 0\n",
        "  N = 0\n",
        "  for el in lista:\n",
        "    mi += el\n",
        "    N += 1\n",
        "  \n",
        "  return mi / N\n",
        "\n",
        "mean_1 = mean(distribution_1)\n",
        "mean_2 = mean(distribution_2)\n",
        "mean_3 = mean(distribution_3)"
      ],
      "execution_count": 0,
      "outputs": []
    },
    {
      "metadata": {
        "id": "wkcGQAvzeFb3",
        "colab_type": "text"
      },
      "cell_type": "markdown",
      "source": [
        "# 6 - Introducing the Data"
      ]
    },
    {
      "metadata": {
        "id": "_LNfdxBKecRl",
        "colab_type": "text"
      },
      "cell_type": "markdown",
      "source": [
        "So far we've discussed a few theoretical aspects about the **mean** and used a few simple distributions (like [2,4,6]) to make the explanations easier to grasp. At this point, we introduce a real-world data set to discuss the **mean** in the context of large and real-world distributions.\n",
        "\n",
        "We'll be working with a **data set** that describes characteristics of **houses sold** between 2006 and 2010 in the city of Ames (located in the American state of Iowa). There are 2930 rows in the data set, and each row describes a house. For each house there are 82 characteristics described, which means there are 82 columns in the data set. Here's a brief extract from the data set:\n",
        "\n",
        "| __ |Order | PID | MS SubClass | MS Zoning | Lot Frontage | Lot Area | Street | Alley | Mo Sold | Yr Sold | Sale Type | Sale Condition | SalePrice |       \n",
        "|-------|-----|-------------|-----------|--------------|----------|--------|-------|---------|---------|-----------|----------------|-----------|--------|\n",
        "| 0     | 1   | 526301100   | 20        | RL           | 141.0    | 131770 | Pave  | 0       | 5       | 2010      | WD             | Normal    | 215000 |\n",
        "| 1     | 2   | 526350040   | 20        | RH           | 80.0     | 11622  | Pave  | 0       | 6       | 2010      | WD             | Normal    | 105000 |\n",
        "| 2     | 3   | 526351010   | 20        | RL           | 81.0     | 14267  | Pave  | 12500   | 6       | 2010      | WD             | Normal    | 172000 |\n",
        "| 3     | 4   | 526353030   | 20        | RL           | 93.0     | 11160  | Pave  | 0       | 4       | 2010      | WD             | Normal    | 244000 |\n",
        "| 4     | 5   | 527105010   | 60        | RL           | 74.0     | 13830  | Pave  | 0       | 3       | 2010      | WD             | Normal    | 189900 |\n",
        "\n",
        "\n",
        "The data set was collected by professor [Dean DeCock](http://www.truman.edu/faculty-staff/decock). He described in great detail the data collection process [in this paper](https://ww2.amstat.org/publications/jse/v19n3/decock.pdf) published in the Journal of Statistics Education. The documentation of the data set can be found [here](https://ww2.amstat.org/publications/jse/v19n3/decock/DataDocumentation.txt).\n",
        "\n",
        "We slightly modified the original data set for teaching purposes. You can download the original data set from [here](https://ww2.amstat.org/publications/jse/v19n3/decock/AmesHousing.txt) and the modified version from our interface. The documentation is the same for both data sets.\n",
        "\n",
        "**Exercise**\n",
        "\n",
        "<img width=\"100\" src=\"https://drive.google.com/uc?export=view&id=1E8tR7B9YYUXsU_rddJAyq0FrM0MSelxZ\">\n",
        "\n",
        "\n",
        "- The data set is stored in a file named **AmesHousing_1.txt**. Read the file as a pandas **DataFrame**, and store it in a variable named **houses.**\n",
        "  - The values in each row are tab-separated, which means **AmesHousing_1.txt** is a TSV (tab-separated value) file. This is different from a CSV (comma-separated values) file, where the values are separated by commas, not by tab a tab character.\n",
        "  - Use the **pd.read_table()** function or **pd.read_csv(sep = '\\t')** to read in the data set.\n",
        "- With the help of the documentation and by exploring the data set yourself, asses the truth value of the following sentences:\n",
        "  - This data set has variables measured on every scale of measurement: nominal, ordinal, interval and ratio. (If you think this is true, assign the boolean **True** to the variable **one**, otherwise assign **False**.)\n",
        "  - The **SalePrice** column is continuous and measured on an interval scale. (If you think this is true, assign the boolean **True** to the variable **two**, otherwise assign **False**.)\n",
        "  - In the paper he published [here](https://ww2.amstat.org/publications/jse/v19n3/decock.pdf), professor Dean DeCock wrote \"The initial Excel file contained 113 variables describing 3970 property sales that had occurred in Ames, Iowa between 2006 an 2010\". If we wanted to measure the mean sale prices for all the houses sold between 2006 and 2010 in Ames, Iowa, the data stored in the **AmesHousing_1.txt** would be a sample. (If you think the last sentence is true, assign the boolean **True** to the variable **three**, otherwise assign **False**.)"
      ]
    },
    {
      "metadata": {
        "id": "dNfDxv3eegWp",
        "colab_type": "code",
        "colab": {}
      },
      "cell_type": "code",
      "source": [
        "import pandas as pd\n",
        "pd.set_option('display.max_columns', 500)\n",
        "\n",
        "# put your code here\n",
        "import pandas as pd\n",
        "\n",
        "houses = pd.read_csv(\"AmesHousing_1.txt\",sep='\\t')\n",
        "\n",
        "one = True  #dinheiro é Radio Scale, anos são invertal scale\n",
        "two = False\n",
        "three = False #Seria isso uma nova população e nao uma amostra?\n",
        "\n",
        "#houses"
      ],
      "execution_count": 0,
      "outputs": []
    },
    {
      "metadata": {
        "id": "DhSSY8P0ZbEX",
        "colab_type": "text"
      },
      "cell_type": "markdown",
      "source": [
        "# 7 - Mean House Prices\n"
      ]
    },
    {
      "metadata": {
        "id": "d-4rKPIvcO7i",
        "colab_type": "text"
      },
      "cell_type": "markdown",
      "source": [
        "Let's say we're interested to analyze the distribution of the **sale prices** of the houses. We can get a good overview about this distribution using the **Series.describe()** method:"
      ]
    },
    {
      "metadata": {
        "id": "BqTD2NUFcsHF",
        "colab_type": "code",
        "outputId": "fce74692-6e45-4319-9013-6151e54ae8b2",
        "colab": {
          "base_uri": "https://localhost:8080/",
          "height": 177
        }
      },
      "cell_type": "code",
      "source": [
        "houses.SalePrice.describe()"
      ],
      "execution_count": 0,
      "outputs": [
        {
          "output_type": "execute_result",
          "data": {
            "text/plain": [
              "count      2930.000000\n",
              "mean     180796.060068\n",
              "std       79886.692357\n",
              "min       12789.000000\n",
              "25%      129500.000000\n",
              "50%      160000.000000\n",
              "75%      213500.000000\n",
              "max      755000.000000\n",
              "Name: SalePrice, dtype: float64"
            ]
          },
          "metadata": {
            "tags": []
          },
          "execution_count": 24
        }
      ]
    },
    {
      "metadata": {
        "id": "TmTp76bKctg0",
        "colab_type": "text"
      },
      "cell_type": "markdown",
      "source": [
        "We can see that the **distribution has a large range**: the **minimum** **sale price** is 12789 while the **maximum** is 755000. Among this diversity of prices, we can see that the **mean** (or the \"balance point\") of this distribution is approximately 180796. The mean gives us a sense about the typical sale price in this distribution of 2930 prices.\n",
        "\n",
        "If we want to compute only the **mean**, it's more convenient to use the **Series.mean()** method:\n",
        "\n",
        "\n"
      ]
    },
    {
      "metadata": {
        "id": "DUs3XKvldKiS",
        "colab_type": "code",
        "outputId": "543bad07-d5c4-485e-d78d-a321507d04cb",
        "colab": {
          "base_uri": "https://localhost:8080/",
          "height": 35
        }
      },
      "cell_type": "code",
      "source": [
        "houses['SalePrice'].mean()"
      ],
      "execution_count": 0,
      "outputs": [
        {
          "output_type": "execute_result",
          "data": {
            "text/plain": [
              "180796.0600682594"
            ]
          },
          "metadata": {
            "tags": []
          },
          "execution_count": 25
        }
      ]
    },
    {
      "metadata": {
        "id": "4bfHKcHBdUH0",
        "colab_type": "text"
      },
      "cell_type": "markdown",
      "source": [
        "**Exercise**\n",
        "\n",
        "<img width=\"100\" src=\"https://drive.google.com/uc?export=view&id=1E8tR7B9YYUXsU_rddJAyq0FrM0MSelxZ\">\n",
        "\n",
        "- Use the function you wrote in section 5 to compute the **mean** of the **SalePrice** distribution. Assign the result to a variable named **function_mean**.\n",
        "- Use **Series.mean()** to compute the **mean** of the **SalePrice** distribution. Assign the result to a variable named **pandas_mean**.\n",
        "- Compare **function_mean** with **pandas_mean** using the == operator. Assign the result of the comparison to a variable named **means_are_equal**.\n",
        "  - The two means should be equal, so we expect the comparison to resolve to True."
      ]
    },
    {
      "metadata": {
        "id": "A6lRSR3qePrH",
        "colab_type": "code",
        "outputId": "5d7ba53b-6c19-4313-8b19-8f509a2c265d",
        "colab": {
          "base_uri": "https://localhost:8080/",
          "height": 35
        }
      },
      "cell_type": "code",
      "source": [
        "def mean(distribution):\n",
        "    sum_distribution = 0\n",
        "    for value in distribution:\n",
        "        sum_distribution += value\n",
        "        \n",
        "    return sum_distribution / len(distribution)\n",
        "\n",
        "# put your code here\n",
        "\n",
        "function_mean = mean(houses['SalePrice'])\n",
        "pandas_mean = houses[\"SalePrice\"].mean()\n",
        "\n",
        "means_are_equal = function_mean == pandas_mean\n",
        "means_are_equal"
      ],
      "execution_count": 0,
      "outputs": [
        {
          "output_type": "execute_result",
          "data": {
            "text/plain": [
              "True"
            ]
          },
          "metadata": {
            "tags": []
          },
          "execution_count": 29
        }
      ]
    },
    {
      "metadata": {
        "id": "6W4A4SMDeb93",
        "colab_type": "text"
      },
      "cell_type": "markdown",
      "source": [
        "#8 - Estimating the Population Mean"
      ]
    },
    {
      "metadata": {
        "id": "DXFCAihgeq7n",
        "colab_type": "text"
      },
      "cell_type": "markdown",
      "source": [
        "In practice, we almost always work with samples. But most of the times we're not interested in answering questions about samples — we want to answer questions about populations. A lot of the questions we want to answer in practice can be reduced to finding the mean of a population:\n",
        "\n",
        "- What is the mean amount of money our customers spent last year on our website?\n",
        "- What is the mean amount of time customers spent daily the first week after the promotion we ran? How does that compare to the mean amount of time spent daily in the week before the promotion?\n",
        "- What is the mean sale price of a house in Ames, Iowa for the period 2006-2010?\n",
        "\n",
        "\n",
        "**When we only have a sample but want to find the mean in the population**, the best we can do is to compute the **sample mean** $\\overline{x}$ and hope it's a **good estimate** for the **population mean** $\\mu$. When estimating the population mean  $\\mu$ using the sample mean $\\overline{x}$, there are three possible scenarios:\n",
        "\n",
        "- The sample mean $\\overline{x}$ overestimates the population mean . This means that $\\overline{x} > \\mu$.\n",
        "- The sample mean $\\overline{x}$  underestimates the population mean . This means that $\\overline{x} < \\mu$.\n",
        "- The sample mean $\\overline{x}$ is equal to the population mean $\\overline{x} = \\mu$ . This means that .\n",
        "\n",
        "When $\\overline{x} > \\mu$  and  $\\overline{x} < \\mu$, **sampling error occurs**. Remember that sampling error is given by the difference between a population's parameter and a sample's statistic. $\\mu$  is a parameter, and $\\overline{x}$  is a statistic, so the sampling error is given by:\n",
        "\n",
        "$$\n",
        "\\text{sampling error} = \\mu - \\overline{x}\n",
        "$$\n",
        "\n",
        "\n",
        "**Our aim is to reduce the sampling error**. Two important factors that influence the sampling error are:\n",
        "\n",
        "- **Sample representativity** — the more representative a sample is, the closer $\\overline{x}$  will be to $\\mu$ .\n",
        "- **Sample size** — the larger the sample, the more chances we have to get a representative sample. By consequence, this means less sampling error.\n",
        "This emphasizes once more the importance of the sampling process, where we should try our best to get a representative sample.\n",
        "\n",
        "In the exercise below, we'll try to visualize on a scatter plot how the sampling error changes as we increase the sample size. Just to prove a point, we'll assume that our data set describes all the houses sold in Ames, Iowa between 2006 and 2010.\n",
        "\n",
        "**Exercise**\n",
        "\n",
        "<img width=\"100\" src=\"https://drive.google.com/uc?export=view&id=1E8tR7B9YYUXsU_rddJAyq0FrM0MSelxZ\">\n",
        "\n",
        "\n",
        "- Compute the **mean** of the **SalePrice** variable. We'll assume that the data we have is a population relative to the question \"What's the mean sale price of a house in Ames, Iowa for the period 2006-2010?\".\n",
        "- For each iteration of a for loop that iterates 101 times:\n",
        "  - Sample the **SalePrice** distribution using the **Series.sample()** method.\n",
        "    - For the first iteration, the **random_state** parameter is 0, for the second iteration is 1, for the third is 2, and so on.\n",
        "    - For the first iteration, the sample size is 5.\n",
        "    - The last sample size is 2905 (which is close to 2930, the population's size).\n",
        "    - To achieve that, you'll need to increment the sample size by 29 for every new iteration. Note that you'll first have to define the sample size with a value of 5 outside the loop.\n",
        "  - Compute the sample mean.\n",
        "  - Compute the sampling error. For answer checking purposes, use $parameter - statistics$ , not $statistics - parameter$.\n",
        "- Generate a scatter plot to represent visually how the sampling error changes as the sample size increases.\n",
        "  - Place the sample sizes on the x-axis.\n",
        "  - Place the sampling errors on the y-axis.\n",
        "  - Use plt.axhline() to generate a horizontal line at 0 to illustrate the point where the sampling error is 0.\n",
        "  - Use plt.axvline() to generate a vertical line at 2930 to illustrate the population size.\n",
        "  - Label the x-axis \"Sample size\".\n",
        "  - Label the y-axis \"Sampling error\".\n",
        "\n",
        "\n"
      ]
    },
    {
      "metadata": {
        "id": "OTMzwWgOj5rM",
        "colab_type": "code",
        "outputId": "ade43ebf-2068-405c-b62f-7eff89a3b346",
        "colab": {
          "base_uri": "https://localhost:8080/",
          "height": 361
        }
      },
      "cell_type": "code",
      "source": [
        "import matplotlib.pyplot as plt\n",
        "\n",
        "samples = pd.DataFrame([houses['SalePrice'].sample(5 + (29 * x), random_state = x).mean() for x in range(101)])\n",
        "plt.scatter([5 + (29 * x) for x in range(101)], samples)\n",
        "\n",
        "plt.axhline(y = houses[\"SalePrice\"].mean(), color='r')\n",
        "plt.axvline(x = 2930, color='r')\n",
        "plt.xlabel('Sample sizes')\n",
        "plt.ylabel('Sampling error')\n",
        "plt.show()"
      ],
      "execution_count": 0,
      "outputs": [
        {
          "output_type": "display_data",
          "data": {
            "image/png": "[encoded data removed]",
            "text/plain": [
              "<matplotlib.figure.Figure at 0x7f2e9b1bae48>"
            ]
          },
          "metadata": {
            "tags": []
          }
        }
      ]
    },
    {
      "metadata": {
        "id": "h7GR94kEjvzV",
        "colab_type": "text"
      },
      "cell_type": "markdown",
      "source": [
        "# 9 -  Estimates from Low-Sized Samples"
      ]
    },
    {
      "metadata": {
        "id": "SQIEP17mmSj9",
        "colab_type": "text"
      },
      "cell_type": "markdown",
      "source": [
        "We've seen in the previous exercise that the general tendency for the sampling error is to decrease as the sample size increases. This tendency, however, has exceptions. For instance, there are cases where small sample sizes (100-500 sample points) gave us better estimates for the population mean $\\mu$  than large sample sizes (2500 sample points or more) did.\n",
        "\n",
        "<img width=\"400\" src=\"https://drive.google.com/uc?export=view&id=1b1PbHEITnmE2I-sJRCuZaG24vh6w6iVL\">\n",
        "\n",
        "\n",
        "For any given sample size, we can have many combinations of values. For instance, for a sample size of 3, we can have many possible combinations of sale prices: [220000, 143000, 281000], [123600, 209500, 202665], [287000, 142500, 440000], etc. Most of the samples of size 3 will give a good estimate of the population mean $\\mu$. To prove this point, in the code below we will:\n",
        "\n",
        "Measure the mean for 10000 samples of size 3.\n",
        "Use a histogram to visualize the distribution of the sample means.\n",
        "Draw a vertical line corresponding to the population mean $\\mu$.\n",
        "\n"
      ]
    },
    {
      "metadata": {
        "id": "ohalt56umse0",
        "colab_type": "code",
        "outputId": "66be4424-471e-4fb3-c522-bd44a71b462d",
        "colab": {
          "base_uri": "https://localhost:8080/",
          "height": 394
        }
      },
      "cell_type": "code",
      "source": [
        "means = []\n",
        "for i in range(10000):\n",
        "  sample = houses['SalePrice'].sample(3, random_state=i)\n",
        "  means.append(sample.mean())\n",
        "\n",
        "plt.hist(means)\n",
        "plt.axvline(houses['SalePrice'].mean(),color='red')\n",
        "plt.xlabel(\"SalePrice sample mean\")\n",
        "plt.title(\"Sample Size = 3\")"
      ],
      "execution_count": 0,
      "outputs": [
        {
          "output_type": "execute_result",
          "data": {
            "text/plain": [
              "Text(0.5,1,'Sample Size = 3')"
            ]
          },
          "metadata": {
            "tags": []
          },
          "execution_count": 83
        },
        {
          "output_type": "display_data",
          "data": {
            "image/png": "[encoded data removed]",
            "text/plain": [
              "<matplotlib.figure.Figure at 0x7f6779f664e0>"
            ]
          },
          "metadata": {
            "tags": []
          }
        }
      ]
    },
    {
      "metadata": {
        "id": "PxMshbqwnZef",
        "colab_type": "text"
      },
      "cell_type": "markdown",
      "source": [
        "We can see that most sample means cluster around the population mean. This means that when we take a sample of size 3 and compute $\\overline{x}$, we have fairly good chances to get a good estimate for the population mean $\\mu$. This explains what we've seen in the scatter plot above, where we got good estimates from low-sized samples.\n",
        "\n",
        "It's also worth noting that the mean of the 10000 sample means we measured is very close to the population mean $\\mu$:\n",
        "\n",
        "\n"
      ]
    },
    {
      "metadata": {
        "id": "oEAS6BLKn1LG",
        "colab_type": "code",
        "outputId": "1ae8cce9-44dd-48e1-eebb-a45759f3fac7",
        "colab": {
          "base_uri": "https://localhost:8080/",
          "height": 53
        }
      },
      "cell_type": "code",
      "source": [
        "print(sum(means) / len(means))\n",
        "\n",
        "print(houses['SalePrice'].mean())"
      ],
      "execution_count": 0,
      "outputs": [
        {
          "output_type": "stream",
          "text": [
            "180824.7253000002\n",
            "180796.0600682594\n"
          ],
          "name": "stdout"
        }
      ]
    },
    {
      "metadata": {
        "id": "w-0ztW4mn25U",
        "colab_type": "text"
      },
      "cell_type": "markdown",
      "source": [
        "**Exercise**\n",
        "\n",
        "<img width=\"100\" src=\"https://drive.google.com/uc?export=view&id=1E8tR7B9YYUXsU_rddJAyq0FrM0MSelxZ\">\n",
        "\n",
        "\n",
        "- Take 10000 samples of sample size 100 from the population of sale prices and measure the mean of each sample. For each of the 10000 iterations of a for loop:\n",
        "  - Use **Series.sample()** to take a sample of size 100 from the **SalePrice** variable. The **random_state** parameter is 0 for the first iteration, 1 for the second iteration, 2 for the third iteration, and so on.\n",
        "  - Compute the **mean** of the sample.\n",
        "- Use **plt.hist()** to generate a histogram to visualize the distribution of sample means.\n",
        "  - Draw a vertical line for the population mean.\n",
        "  - Label the x-axis \"Sample mean\".\n",
        "  - Label the y-axis \"Frequency\".\n",
        "  - Set the range of the x-axis to (0,500000). This is the same range as the histogram we built above has. Can you observe any obvious difference between the two histograms now that we've increased the sample size?"
      ]
    },
    {
      "metadata": {
        "id": "8dOtfPPbr6fs",
        "colab_type": "code",
        "outputId": "0ebb4252-4f24-4ec9-962d-eb3d6b3002c4",
        "colab": {
          "base_uri": "https://localhost:8080/",
          "height": 361
        }
      },
      "cell_type": "code",
      "source": [
        "# put your code here\n",
        "samples_means = [houses['SalePrice'].sample(100, random_state = x).mean() for x in range(10000)]\n",
        "plt.hist(samples_means, range= [0,500000])\n",
        "plt.axvline(houses['SalePrice'].mean(), color='r')\n",
        "plt.xlabel('Sample mean')\n",
        "plt.ylabel('Frequency')\n",
        "plt.show()"
      ],
      "execution_count": 0,
      "outputs": [
        {
          "output_type": "display_data",
          "data": {
            "image/png": "[encoded data removed]",
            "text/plain": [
              "<matplotlib.figure.Figure at 0x7f2e6bd27a58>"
            ]
          },
          "metadata": {
            "tags": []
          }
        }
      ]
    },
    {
      "metadata": {
        "id": "GVytAFCVsCJw",
        "colab_type": "text"
      },
      "cell_type": "markdown",
      "source": [
        "# 10 - Variability Around the Population Mean\n",
        "\n"
      ]
    },
    {
      "metadata": {
        "id": "YdTRYSdGsSOk",
        "colab_type": "text"
      },
      "cell_type": "markdown",
      "source": [
        "In the previous exercise, we observed that with a sample size of 100 the sample means vary much less around the population mean than in the case of a sample size of 3.\n",
        "\n",
        "\n",
        "<img width=\"600\" src=\"https://drive.google.com/uc?export=view&id=1S2jlkc4NLUHR_MZnx5Rs14VsvO4Ft-FL\">\n",
        "\n",
        "\n",
        "Generally, as we increase the sample size, there will be less and less variability around the population mean. If there's less variability, there are less chances to get a poor estimate for the population mean — the worst sample means we can get are fairly close to the population mean, which is good.\n",
        "\n",
        "We can clearly see that that sample means vary less and less and less as we increase the sample size:\n",
        "\n",
        "<img width=\"600\" src=\"https://drive.google.com/uc?export=view&id=14mUZbQk54jrS6iU0QwdeeXgYwxRPQmda\">"
      ]
    },
    {
      "metadata": {
        "id": "J1no71Upsrg_",
        "colab_type": "text"
      },
      "cell_type": "markdown",
      "source": [
        "# 11 - The Sample Mean as an Unbiased Estimator"
      ]
    },
    {
      "metadata": {
        "id": "BvqZ_Qv1tcSE",
        "colab_type": "text"
      },
      "cell_type": "markdown",
      "source": [
        "If we took all the possible samples for a given sample size, we'd observe that the mean of the sample means will be equal to the population mean. Consider this small population of values:\n",
        "\n",
        "$$\n",
        "X = [0,3,6]\n",
        "$$\n",
        "\n",
        "The mean $\\mu$ of this population is $\\frac{0+3+6}{3} = 3$. Now let's take every possible sample of size 2, and compute the mean for each sample:\n",
        "\n",
        "<img width=\"200\" src=\"https://drive.google.com/uc?export=view&id=19Mgod57-sxkjAbJxjVesBb87T6tiqrrI\">\n",
        "\n",
        "\n",
        "Now let's find the mean of the sample means. We add up the means we got for each of the six samples above and divide by the number of samples:\n",
        "\n",
        "$$\n",
        "\\frac{1.5 + 3 + 1.5 + 4.5 + 3 + 4.5}{6} = \\frac{18}{6} = 3\n",
        "$$\n",
        "\n",
        "\n",
        "The value we got is the same as the population mean $\\mu$. So on average the sample mean is equal to the population mean. This is true for the distribution above and for any other distribution of real numbers.\n",
        "\n",
        "When a statistic is on average equal to the parameter it estimates, we call that statistic an **unbiased estimator**. In our case, the sample mean $\\overline{x}$ is an **unbiased estimator** for the population mean $\\mu$ .\n",
        "\n",
        "This also holds true if we sample with replacement. When we do sampling with replacement, we sample one value, and then we put it back in the population, which means we can sample that value again. For instance, if we want a sample of size 2 from the population above, and we sample with replacement, this could happen:\n",
        "\n",
        "- We extract one value randomly and get a 3.\n",
        "- Because we sample with replacement, we put the value back in the population.\n",
        "- We extract one more value and get a 3 again. We end up with this sample: [3,3].\n",
        "\n",
        "Below we can see the samples of size 2 we can get when we sample with replacement from the population above. We also show the mean for each sample:\n",
        "\n",
        "<img width=\"200\" src=\"https://drive.google.com/uc?export=view&id=1okOCwMOvH-7bY5yhGlgOxpQBaMEYItiF\">\n",
        "\n",
        "\n",
        "The mean of the sample means amounts to 3 again, and confirms that  is an unbiased estimator for the population mean  when we sample with replacement:\n",
        "\n",
        "$$\n",
        "\\frac{1.5 + 3 + 0 + 1.5 + 4.5 + 3 + 3 + 4.5 + 6}{9} = \\frac{27}{9} = 3\n",
        "$$\n",
        "\n",
        "**Exercise**\n",
        "\n",
        "<img width=\"100\" src=\"https://drive.google.com/uc?export=view&id=1E8tR7B9YYUXsU_rddJAyq0FrM0MSelxZ\">\n",
        "\n",
        "\n",
        "  - Check whether the population mean of the population [3, 7, 2] is equal to the mean of all the sample means of size 2 that we can get if we do sampling without replacement.\n",
        "    - Compute the mean for each sample.\n",
        "    - Compute the mean of all the sample means. Compare it with the population mean using the == operator, and assign the result of the comparison to a variable named **unbiased**."
      ]
    },
    {
      "metadata": {
        "id": "k94jmJqBugGY",
        "colab_type": "code",
        "colab": {}
      },
      "cell_type": "code",
      "source": [
        "# put your code here"
      ],
      "execution_count": 0,
      "outputs": []
    },
    {
      "metadata": {
        "id": "RY-zu_uMxhz7",
        "colab_type": "text"
      },
      "cell_type": "markdown",
      "source": [
        "# 12 - Next Steps"
      ]
    },
    {
      "metadata": {
        "id": "AqU3e5Atxvdq",
        "colab_type": "text"
      },
      "cell_type": "markdown",
      "source": [
        "In this mission, we explored in more depth the **mean**:\n",
        "\n",
        "- We saw that the **mean** can be intuitively understood as the **\"balance point\"** of a distribution.\n",
        "- We learned to distinguish conceptually between the **sample** and the **population mean**, and we saw that we use different notation for each case.\n",
        "- We demonstrated with a few examples that the sample mean is an unbiased estimator for the population mean $\\mu$.\n",
        "\n",
        "In the next mission, we'll explore a few edge cases where it's either impossible to compute the mean, or it's possible but not theoretically sound."
      ]
    }
  ]
}